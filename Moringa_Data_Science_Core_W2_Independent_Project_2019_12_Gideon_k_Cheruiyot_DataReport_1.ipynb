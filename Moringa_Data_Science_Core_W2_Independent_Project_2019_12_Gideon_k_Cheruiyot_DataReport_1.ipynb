{
  "nbformat": 4,
  "nbformat_minor": 0,
  "metadata": {
    "colab": {
      "name": "Moringa_Data_Science_Core_W2_Independent_Project_2019_12_Gideon_k_Cheruiyot_DataReport-1.ipynb",
      "provenance": [],
      "collapsed_sections": [],
      "include_colab_link": true
    },
    "kernelspec": {
      "display_name": "Python 3",
      "language": "python",
      "name": "python3"
    },
    "language_info": {
      "codemirror_mode": {
        "name": "ipython",
        "version": 3
      },
      "file_extension": ".py",
      "mimetype": "text/x-python",
      "name": "python",
      "nbconvert_exporter": "python",
      "pygments_lexer": "ipython3",
      "version": "3.7.4"
    }
  },
  "cells": [
    {
      "cell_type": "markdown",
      "metadata": {
        "id": "view-in-github",
        "colab_type": "text"
      },
      "source": [
        "<a href=\"https://colab.research.google.com/github/pkor725/East-Africa-Financial-inclusivity-/blob/master/Moringa_Data_Science_Core_W2_Independent_Project_2019_12_Gideon_k_Cheruiyot_DataReport_1.ipynb\" target=\"_parent\"><img src=\"https://colab.research.google.com/assets/colab-badge.svg\" alt=\"Open In Colab\"/></a>"
      ]
    },
    {
      "cell_type": "code",
      "metadata": {
        "colab_type": "code",
        "id": "0duYXPm3gb1X",
        "colab": {}
      },
      "source": [
        "**Who is more likely to have a bank account?**\n",
        "\n"
      ],
      "execution_count": 0,
      "outputs": []
    },
    {
      "cell_type": "code",
      "metadata": {
        "colab_type": "code",
        "id": "OfaIK2U6aDQE",
        "colab": {}
      },
      "source": [
        "#importing libraries\n",
        "import numpy as np\n",
        "import pandas as pd"
      ],
      "execution_count": 0,
      "outputs": []
    },
    {
      "cell_type": "code",
      "metadata": {
        "colab_type": "code",
        "id": "NOrHAextm546",
        "colab": {}
      },
      "source": [
        "#loading the dataset\n",
        "fin_df = pd.read_csv(r'C:\\Users\\Gideon Kipkorir\\Downloads/Financial Dataset - 1.csv')"
      ],
      "execution_count": 0,
      "outputs": []
    },
    {
      "cell_type": "code",
      "metadata": {
        "colab_type": "code",
        "id": "DPkLricInHVz",
        "outputId": "9db61463-7f76-4606-d5fe-33bd4a9cc285",
        "colab": {
          "base_uri": "https://localhost:8080/",
          "height": 324
        }
      },
      "source": [
        "#previewing the dataset, top\n",
        "fin_df.tail()"
      ],
      "execution_count": 0,
      "outputs": [
        {
          "output_type": "execute_result",
          "data": {
            "text/html": [
              "<div>\n",
              "<style scoped>\n",
              "    .dataframe tbody tr th:only-of-type {\n",
              "        vertical-align: middle;\n",
              "    }\n",
              "\n",
              "    .dataframe tbody tr th {\n",
              "        vertical-align: top;\n",
              "    }\n",
              "\n",
              "    .dataframe thead th {\n",
              "        text-align: right;\n",
              "    }\n",
              "</style>\n",
              "<table border=\"1\" class=\"dataframe\">\n",
              "  <thead>\n",
              "    <tr style=\"text-align: right;\">\n",
              "      <th></th>\n",
              "      <th>country</th>\n",
              "      <th>year</th>\n",
              "      <th>uniqueid</th>\n",
              "      <th>Has a Bank account</th>\n",
              "      <th>Type of Location</th>\n",
              "      <th>Cell Phone Access</th>\n",
              "      <th>household_size</th>\n",
              "      <th>Respondent Age</th>\n",
              "      <th>gender_of_respondent</th>\n",
              "      <th>The relathip with head</th>\n",
              "      <th>marital_status</th>\n",
              "      <th>Level of Educuation</th>\n",
              "      <th>Type of Job</th>\n",
              "    </tr>\n",
              "  </thead>\n",
              "  <tbody>\n",
              "    <tr>\n",
              "      <td>23519</td>\n",
              "      <td>Uganda</td>\n",
              "      <td>2018</td>\n",
              "      <td>uniqueid_2113</td>\n",
              "      <td>No</td>\n",
              "      <td>Rural</td>\n",
              "      <td>Yes</td>\n",
              "      <td>4.0</td>\n",
              "      <td>48.0</td>\n",
              "      <td>Female</td>\n",
              "      <td>Head of Household</td>\n",
              "      <td>Divorced/Seperated</td>\n",
              "      <td>No formal education</td>\n",
              "      <td>Other Income</td>\n",
              "    </tr>\n",
              "    <tr>\n",
              "      <td>23520</td>\n",
              "      <td>Uganda</td>\n",
              "      <td>2018</td>\n",
              "      <td>uniqueid_2114</td>\n",
              "      <td>No</td>\n",
              "      <td>Rural</td>\n",
              "      <td>Yes</td>\n",
              "      <td>2.0</td>\n",
              "      <td>27.0</td>\n",
              "      <td>Female</td>\n",
              "      <td>Head of Household</td>\n",
              "      <td>Single/Never Married</td>\n",
              "      <td>Secondary education</td>\n",
              "      <td>Other Income</td>\n",
              "    </tr>\n",
              "    <tr>\n",
              "      <td>23521</td>\n",
              "      <td>Uganda</td>\n",
              "      <td>2018</td>\n",
              "      <td>uniqueid_2115</td>\n",
              "      <td>No</td>\n",
              "      <td>Rural</td>\n",
              "      <td>Yes</td>\n",
              "      <td>5.0</td>\n",
              "      <td>27.0</td>\n",
              "      <td>Female</td>\n",
              "      <td>Parent</td>\n",
              "      <td>Widowed</td>\n",
              "      <td>Primary education</td>\n",
              "      <td>Other Income</td>\n",
              "    </tr>\n",
              "    <tr>\n",
              "      <td>23522</td>\n",
              "      <td>Uganda</td>\n",
              "      <td>2018</td>\n",
              "      <td>uniqueid_2116</td>\n",
              "      <td>No</td>\n",
              "      <td>Urban</td>\n",
              "      <td>Yes</td>\n",
              "      <td>7.0</td>\n",
              "      <td>30.0</td>\n",
              "      <td>Female</td>\n",
              "      <td>Parent</td>\n",
              "      <td>Divorced/Seperated</td>\n",
              "      <td>Secondary education</td>\n",
              "      <td>Self employed</td>\n",
              "    </tr>\n",
              "    <tr>\n",
              "      <td>23523</td>\n",
              "      <td>Uganda</td>\n",
              "      <td>2018</td>\n",
              "      <td>uniqueid_2117</td>\n",
              "      <td>No</td>\n",
              "      <td>Rural</td>\n",
              "      <td>Yes</td>\n",
              "      <td>10.0</td>\n",
              "      <td>20.0</td>\n",
              "      <td>Male</td>\n",
              "      <td>Child</td>\n",
              "      <td>Single/Never Married</td>\n",
              "      <td>Secondary education</td>\n",
              "      <td>No Income</td>\n",
              "    </tr>\n",
              "  </tbody>\n",
              "</table>\n",
              "</div>"
            ],
            "text/plain": [
              "      country  year       uniqueid Has a Bank account Type of Location  \\\n",
              "23519  Uganda  2018  uniqueid_2113                 No            Rural   \n",
              "23520  Uganda  2018  uniqueid_2114                 No            Rural   \n",
              "23521  Uganda  2018  uniqueid_2115                 No            Rural   \n",
              "23522  Uganda  2018  uniqueid_2116                 No            Urban   \n",
              "23523  Uganda  2018  uniqueid_2117                 No            Rural   \n",
              "\n",
              "      Cell Phone Access  household_size  Respondent Age gender_of_respondent  \\\n",
              "23519               Yes             4.0            48.0               Female   \n",
              "23520               Yes             2.0            27.0               Female   \n",
              "23521               Yes             5.0            27.0               Female   \n",
              "23522               Yes             7.0            30.0               Female   \n",
              "23523               Yes            10.0            20.0                 Male   \n",
              "\n",
              "      The relathip with head        marital_status  Level of Educuation  \\\n",
              "23519      Head of Household    Divorced/Seperated  No formal education   \n",
              "23520      Head of Household  Single/Never Married  Secondary education   \n",
              "23521                 Parent               Widowed    Primary education   \n",
              "23522                 Parent    Divorced/Seperated  Secondary education   \n",
              "23523                  Child  Single/Never Married  Secondary education   \n",
              "\n",
              "         Type of Job  \n",
              "23519   Other Income  \n",
              "23520   Other Income  \n",
              "23521   Other Income  \n",
              "23522  Self employed  \n",
              "23523      No Income  "
            ]
          },
          "metadata": {
            "tags": []
          },
          "execution_count": 15
        }
      ]
    },
    {
      "cell_type": "code",
      "metadata": {
        "colab_type": "code",
        "id": "MyoyO18KnQRP",
        "outputId": "ebffdfcd-bde3-4bf5-c1a8-6e15250396f8",
        "colab": {
          "base_uri": "https://localhost:8080/",
          "height": 329
        }
      },
      "source": [
        "#understanding the datatypes in the dataset\n",
        "fin_df.info()"
      ],
      "execution_count": 0,
      "outputs": [
        {
          "output_type": "stream",
          "text": [
            "<class 'pandas.core.frame.DataFrame'>\n",
            "RangeIndex: 23524 entries, 0 to 23523\n",
            "Data columns (total 13 columns):\n",
            "country                   23510 non-null object\n",
            "year                      23524 non-null int64\n",
            "uniqueid                  23524 non-null object\n",
            "Has a Bank account        23488 non-null object\n",
            "Type of Location          23509 non-null object\n",
            "Cell Phone Access         23513 non-null object\n",
            "household_size            23496 non-null float64\n",
            "Respondent Age            23490 non-null float64\n",
            "gender_of_respondent      23490 non-null object\n",
            "The relathip with head    23520 non-null object\n",
            "marital_status            23492 non-null object\n",
            "Level of Educuation       23495 non-null object\n",
            "Type of Job               23494 non-null object\n",
            "dtypes: float64(2), int64(1), object(10)\n",
            "memory usage: 2.3+ MB\n"
          ],
          "name": "stdout"
        }
      ]
    },
    {
      "cell_type": "code",
      "metadata": {
        "colab_type": "code",
        "id": "f4EE0PqRu-NA",
        "outputId": "86d54b57-87ea-47a3-e9a9-516c9ed158d4",
        "colab": {
          "base_uri": "https://localhost:8080/",
          "height": 34
        }
      },
      "source": [
        "# knowing number of rows and columns\n",
        "fin_df.shape"
      ],
      "execution_count": 0,
      "outputs": [
        {
          "output_type": "execute_result",
          "data": {
            "text/plain": [
              "(23524, 13)"
            ]
          },
          "metadata": {
            "tags": []
          },
          "execution_count": 17
        }
      ]
    },
    {
      "cell_type": "code",
      "metadata": {
        "colab_type": "code",
        "id": "mRR5Xsllvbgm",
        "outputId": "72331d45-6523-47d2-ac5c-f9615440524e",
        "colab": {
          "base_uri": "https://localhost:8080/",
          "height": 260
        }
      },
      "source": [
        "#finding null values\n",
        "fin_df.isnull().sum()"
      ],
      "execution_count": 0,
      "outputs": [
        {
          "output_type": "execute_result",
          "data": {
            "text/plain": [
              "country                   14\n",
              "year                       0\n",
              "uniqueid                   0\n",
              "Has a Bank account        36\n",
              "Type of Location          15\n",
              "Cell Phone Access         11\n",
              "household_size            28\n",
              "Respondent Age            34\n",
              "gender_of_respondent      34\n",
              "The relathip with head     4\n",
              "marital_status            32\n",
              "Level of Educuation       29\n",
              "Type of Job               30\n",
              "dtype: int64"
            ]
          },
          "metadata": {
            "tags": []
          },
          "execution_count": 18
        }
      ]
    },
    {
      "cell_type": "code",
      "metadata": {
        "colab_type": "code",
        "id": "Eb4W7LEc3UAP",
        "colab": {}
      },
      "source": [
        "#Replacing 'Don't know' response with null\n",
        "fin_df.replace(to_replace = 'Dont know', value = np.nan, inplace = True)\n",
        "fin_df['The relathip with head'].unique()\n",
        "\n",
        "#Replacing Other/Dont know/RTA' response with null\n",
        "fin_df.replace(to_replace = 'Other/Dont know/RTA', value = np.nan, inplace = True)\n",
        "\n",
        "#Replacing 'Dont Know/Refuse to answer' response with null\n",
        "fin_df.replace(to_replace = 'Dont Know/Refuse to answer', value = np.nan, inplace = True)\n",
        "\n",
        "#Replacing 'Dont Know/Refuse to answer' response with null\n",
        "fin_df.replace(to_replace = '6', value = np.nan, inplace = True)\n"
      ],
      "execution_count": 0,
      "outputs": []
    },
    {
      "cell_type": "code",
      "metadata": {
        "colab_type": "code",
        "id": "ZclEIKyavjk3",
        "colab": {}
      },
      "source": [
        "#filling null values for country feature using years\n",
        "\n",
        "#2016 is for Rwanda\n",
        "fin_df[fin_df['year'] == 2016]\n",
        "fin_df['country'].fillna('Rwanda', inplace = True)\n",
        "\n",
        "#2017 for Tanzania\n",
        "fin_df[fin_df['year'] == 2017]\n",
        "fin_df['country'].fillna('Tanzania', inplace = True)\n",
        "\n",
        "# since 2018 is shared by kenya and Uganda,\n",
        "#We will backward fill\n",
        "fin_df['country'].fillna(method = 'bfill', inplace = True)\n"
      ],
      "execution_count": 0,
      "outputs": []
    },
    {
      "cell_type": "code",
      "metadata": {
        "colab_type": "code",
        "id": "jBn3gzE3Cc3G",
        "colab": {}
      },
      "source": [
        "#dropping null values\n",
        "fin_df.dropna(inplace = True)\n",
        "fin_df.shape\n",
        "fin_df['year'] =fin_df['year'].astype('str')\n"
      ],
      "execution_count": 0,
      "outputs": []
    },
    {
      "cell_type": "code",
      "metadata": {
        "id": "ya-dNjnJKkMP",
        "colab_type": "code",
        "colab": {}
      },
      "source": [
        ""
      ],
      "execution_count": 0,
      "outputs": []
    },
    {
      "cell_type": "markdown",
      "metadata": {
        "id": "nIzCWp42KkMU",
        "colab_type": "text"
      },
      "source": [
        "**Univariate analysis**"
      ]
    },
    {
      "cell_type": "code",
      "metadata": {
        "id": "1S2JvKZyKkMW",
        "colab_type": "code",
        "colab": {},
        "outputId": "b07ab4e0-9714-44bb-fb09-976f4ed12fec"
      },
      "source": [
        "#using describe function\n",
        "fin_df.describe()"
      ],
      "execution_count": 0,
      "outputs": [
        {
          "output_type": "execute_result",
          "data": {
            "text/html": [
              "<div>\n",
              "<style scoped>\n",
              "    .dataframe tbody tr th:only-of-type {\n",
              "        vertical-align: middle;\n",
              "    }\n",
              "\n",
              "    .dataframe tbody tr th {\n",
              "        vertical-align: top;\n",
              "    }\n",
              "\n",
              "    .dataframe thead th {\n",
              "        text-align: right;\n",
              "    }\n",
              "</style>\n",
              "<table border=\"1\" class=\"dataframe\">\n",
              "  <thead>\n",
              "    <tr style=\"text-align: right;\">\n",
              "      <th></th>\n",
              "      <th>household_size</th>\n",
              "      <th>Respondent Age</th>\n",
              "    </tr>\n",
              "  </thead>\n",
              "  <tbody>\n",
              "    <tr>\n",
              "      <td>count</td>\n",
              "      <td>23189.000000</td>\n",
              "      <td>23189.000000</td>\n",
              "    </tr>\n",
              "    <tr>\n",
              "      <td>mean</td>\n",
              "      <td>3.683643</td>\n",
              "      <td>38.791927</td>\n",
              "    </tr>\n",
              "    <tr>\n",
              "      <td>std</td>\n",
              "      <td>2.278644</td>\n",
              "      <td>16.513737</td>\n",
              "    </tr>\n",
              "    <tr>\n",
              "      <td>min</td>\n",
              "      <td>0.000000</td>\n",
              "      <td>16.000000</td>\n",
              "    </tr>\n",
              "    <tr>\n",
              "      <td>25%</td>\n",
              "      <td>2.000000</td>\n",
              "      <td>26.000000</td>\n",
              "    </tr>\n",
              "    <tr>\n",
              "      <td>50%</td>\n",
              "      <td>3.000000</td>\n",
              "      <td>35.000000</td>\n",
              "    </tr>\n",
              "    <tr>\n",
              "      <td>75%</td>\n",
              "      <td>5.000000</td>\n",
              "      <td>49.000000</td>\n",
              "    </tr>\n",
              "    <tr>\n",
              "      <td>max</td>\n",
              "      <td>21.000000</td>\n",
              "      <td>100.000000</td>\n",
              "    </tr>\n",
              "  </tbody>\n",
              "</table>\n",
              "</div>"
            ],
            "text/plain": [
              "       household_size  Respondent Age\n",
              "count    23189.000000    23189.000000\n",
              "mean         3.683643       38.791927\n",
              "std          2.278644       16.513737\n",
              "min          0.000000       16.000000\n",
              "25%          2.000000       26.000000\n",
              "50%          3.000000       35.000000\n",
              "75%          5.000000       49.000000\n",
              "max         21.000000      100.000000"
            ]
          },
          "metadata": {
            "tags": []
          },
          "execution_count": 23
        }
      ]
    },
    {
      "cell_type": "code",
      "metadata": {
        "id": "NFS1yzk8KkMb",
        "colab_type": "code",
        "colab": {},
        "outputId": "84aa6fce-660e-4172-e184-0a6238239ce8"
      },
      "source": [
        "fin_df.groupby(['country'])['household_size','Respondent Age' ].describe()"
      ],
      "execution_count": 0,
      "outputs": [
        {
          "output_type": "execute_result",
          "data": {
            "text/html": [
              "<div>\n",
              "<style scoped>\n",
              "    .dataframe tbody tr th:only-of-type {\n",
              "        vertical-align: middle;\n",
              "    }\n",
              "\n",
              "    .dataframe tbody tr th {\n",
              "        vertical-align: top;\n",
              "    }\n",
              "\n",
              "    .dataframe thead tr th {\n",
              "        text-align: left;\n",
              "    }\n",
              "\n",
              "    .dataframe thead tr:last-of-type th {\n",
              "        text-align: right;\n",
              "    }\n",
              "</style>\n",
              "<table border=\"1\" class=\"dataframe\">\n",
              "  <thead>\n",
              "    <tr>\n",
              "      <th></th>\n",
              "      <th colspan=\"8\" halign=\"left\">household_size</th>\n",
              "      <th colspan=\"8\" halign=\"left\">Respondent Age</th>\n",
              "    </tr>\n",
              "    <tr>\n",
              "      <th></th>\n",
              "      <th>count</th>\n",
              "      <th>mean</th>\n",
              "      <th>std</th>\n",
              "      <th>min</th>\n",
              "      <th>25%</th>\n",
              "      <th>50%</th>\n",
              "      <th>75%</th>\n",
              "      <th>max</th>\n",
              "      <th>count</th>\n",
              "      <th>mean</th>\n",
              "      <th>std</th>\n",
              "      <th>min</th>\n",
              "      <th>25%</th>\n",
              "      <th>50%</th>\n",
              "      <th>75%</th>\n",
              "      <th>max</th>\n",
              "    </tr>\n",
              "    <tr>\n",
              "      <th>country</th>\n",
              "      <th></th>\n",
              "      <th></th>\n",
              "      <th></th>\n",
              "      <th></th>\n",
              "      <th></th>\n",
              "      <th></th>\n",
              "      <th></th>\n",
              "      <th></th>\n",
              "      <th></th>\n",
              "      <th></th>\n",
              "      <th></th>\n",
              "      <th></th>\n",
              "      <th></th>\n",
              "      <th></th>\n",
              "      <th></th>\n",
              "      <th></th>\n",
              "    </tr>\n",
              "  </thead>\n",
              "  <tbody>\n",
              "    <tr>\n",
              "      <td>Kenya</td>\n",
              "      <td>6045.0</td>\n",
              "      <td>3.989082</td>\n",
              "      <td>2.333371</td>\n",
              "      <td>1.0</td>\n",
              "      <td>2.0</td>\n",
              "      <td>4.0</td>\n",
              "      <td>5.0</td>\n",
              "      <td>21.0</td>\n",
              "      <td>6045.0</td>\n",
              "      <td>39.606121</td>\n",
              "      <td>17.207031</td>\n",
              "      <td>16.0</td>\n",
              "      <td>26.0</td>\n",
              "      <td>35.0</td>\n",
              "      <td>50.0</td>\n",
              "      <td>95.0</td>\n",
              "    </tr>\n",
              "    <tr>\n",
              "      <td>Rwanda</td>\n",
              "      <td>8625.0</td>\n",
              "      <td>4.481159</td>\n",
              "      <td>1.981629</td>\n",
              "      <td>1.0</td>\n",
              "      <td>3.0</td>\n",
              "      <td>4.0</td>\n",
              "      <td>6.0</td>\n",
              "      <td>13.0</td>\n",
              "      <td>8625.0</td>\n",
              "      <td>39.239884</td>\n",
              "      <td>16.249057</td>\n",
              "      <td>16.0</td>\n",
              "      <td>27.0</td>\n",
              "      <td>35.0</td>\n",
              "      <td>49.0</td>\n",
              "      <td>99.0</td>\n",
              "    </tr>\n",
              "    <tr>\n",
              "      <td>Tanzania</td>\n",
              "      <td>6497.0</td>\n",
              "      <td>1.932123</td>\n",
              "      <td>1.055208</td>\n",
              "      <td>0.0</td>\n",
              "      <td>1.0</td>\n",
              "      <td>2.0</td>\n",
              "      <td>2.0</td>\n",
              "      <td>11.0</td>\n",
              "      <td>6497.0</td>\n",
              "      <td>38.466369</td>\n",
              "      <td>16.428299</td>\n",
              "      <td>16.0</td>\n",
              "      <td>26.0</td>\n",
              "      <td>35.0</td>\n",
              "      <td>48.0</td>\n",
              "      <td>100.0</td>\n",
              "    </tr>\n",
              "    <tr>\n",
              "      <td>Uganda</td>\n",
              "      <td>2022.0</td>\n",
              "      <td>4.996538</td>\n",
              "      <td>2.893882</td>\n",
              "      <td>1.0</td>\n",
              "      <td>3.0</td>\n",
              "      <td>5.0</td>\n",
              "      <td>7.0</td>\n",
              "      <td>20.0</td>\n",
              "      <td>2022.0</td>\n",
              "      <td>35.493076</td>\n",
              "      <td>15.335428</td>\n",
              "      <td>16.0</td>\n",
              "      <td>24.0</td>\n",
              "      <td>31.0</td>\n",
              "      <td>45.0</td>\n",
              "      <td>98.0</td>\n",
              "    </tr>\n",
              "  </tbody>\n",
              "</table>\n",
              "</div>"
            ],
            "text/plain": [
              "         household_size                                                \\\n",
              "                  count      mean       std  min  25%  50%  75%   max   \n",
              "country                                                                 \n",
              "Kenya            6045.0  3.989082  2.333371  1.0  2.0  4.0  5.0  21.0   \n",
              "Rwanda           8625.0  4.481159  1.981629  1.0  3.0  4.0  6.0  13.0   \n",
              "Tanzania         6497.0  1.932123  1.055208  0.0  1.0  2.0  2.0  11.0   \n",
              "Uganda           2022.0  4.996538  2.893882  1.0  3.0  5.0  7.0  20.0   \n",
              "\n",
              "         Respondent Age                                                       \n",
              "                  count       mean        std   min   25%   50%   75%    max  \n",
              "country                                                                       \n",
              "Kenya            6045.0  39.606121  17.207031  16.0  26.0  35.0  50.0   95.0  \n",
              "Rwanda           8625.0  39.239884  16.249057  16.0  27.0  35.0  49.0   99.0  \n",
              "Tanzania         6497.0  38.466369  16.428299  16.0  26.0  35.0  48.0  100.0  \n",
              "Uganda           2022.0  35.493076  15.335428  16.0  24.0  31.0  45.0   98.0  "
            ]
          },
          "metadata": {
            "tags": []
          },
          "execution_count": 29
        }
      ]
    },
    {
      "cell_type": "markdown",
      "metadata": {
        "id": "gYY1zcwiKkMe",
        "colab_type": "text"
      },
      "source": [
        "**Observation:** The average size of an household is 4 members, while the average age of the respondent was 39 years. The maximum size of an house household is 21 members while the maximum age of the respondents was 100 years. A 16_year old was the youngest respodent.\n",
        "\n",
        "A lot of categorical data also limits us from undertaking analysis on skewness, kurtosis and standard deviation.\n"
      ]
    },
    {
      "cell_type": "code",
      "metadata": {
        "id": "zDEXJ5XCKkMf",
        "colab_type": "code",
        "colab": {},
        "outputId": "f3ebf54c-30cf-4b34-d036-0aca4bec03dc"
      },
      "source": [
        "#frequency\n",
        "h  = pd.DataFrame(fin_df.groupby(['Level of Educuation','Has a Bank account'])['Level of Educuation'].count()).rename({'Level of Eductaion': 'Education level', 'Has a Bank account':'Has a Bank Account', 'Level of Eductaion':'Amount'}, axis = 1)\n",
        "print(h)\n",
        "i = pd.DataFrame(fin_df.groupby(['Cell Phone Access'])['Has a Bank account'].count())\n",
        "print(i)\n",
        "G = pd.DataFrame(fin_df.groupby(['gender_of_respondent','Has a Bank account'])['Has a Bank account'].count())\n",
        "print(G)\n",
        "C = pd.DataFrame(fin_df.groupby(['country', 'Has a Bank account'])['Has a Bank account'].count())\n",
        "print(C)"
      ],
      "execution_count": 0,
      "outputs": [
        {
          "output_type": "stream",
          "text": [
            "                                                    Level of Educuation\n",
            "Level of Educuation             Has a Bank account                     \n",
            "No formal education             No                                 4280\n",
            "                                Yes                                 176\n",
            "Primary education               No                                11535\n",
            "                                Yes                                1078\n",
            "Secondary education             No                                 3205\n",
            "                                Yes                                 973\n",
            "Tertiary education              No                                  554\n",
            "                                Yes                                 588\n",
            "Vocational/Specialised training No                                  345\n",
            "                                Yes                                 455\n",
            "                   Has a Bank account\n",
            "Cell Phone Access                    \n",
            "No                               5973\n",
            "Yes                             17216\n",
            "                                         Has a Bank account\n",
            "gender_of_respondent Has a Bank account                    \n",
            "Female               No                               12207\n",
            "                     Yes                               1468\n",
            "Male                 No                                7712\n",
            "                     Yes                               1802\n",
            "                             Has a Bank account\n",
            "country  Has a Bank account                    \n",
            "Kenya    No                                4534\n",
            "         Yes                               1511\n",
            "Rwanda   No                                7640\n",
            "         Yes                                985\n",
            "Tanzania No                                5899\n",
            "         Yes                                598\n",
            "Uganda   No                                1846\n",
            "         Yes                                176\n"
          ],
          "name": "stdout"
        }
      ]
    },
    {
      "cell_type": "markdown",
      "metadata": {
        "id": "_B5QJ-eJKkMj",
        "colab_type": "text"
      },
      "source": [
        "   **Recommendation:** Undertaking a frequency analysis only limits us from addressing the question *who is more likely to have a bank account?* This because because the number of respondents vary from each category to the other, converting them to percentages will yield more objective observations."
      ]
    },
    {
      "cell_type": "code",
      "metadata": {
        "colab_type": "code",
        "id": "Gw8Ch5-VxuCP",
        "colab": {}
      },
      "source": [
        "#Saving cleaned data to csv formatt\n",
        "fin_df.to_csv('fin.csv')"
      ],
      "execution_count": 0,
      "outputs": []
    },
    {
      "cell_type": "code",
      "metadata": {
        "colab_type": "code",
        "id": "_aKBDOxuyW85",
        "colab": {},
        "outputId": "d7f9892d-c2d8-47c9-cefd-388e16662587"
      },
      "source": [
        "f_df = pd.read_csv(r\"C:\\Users\\Gideon Kipkorir\\Desktop\\colab\\fin.csv\", index_col=0) \n",
        "f= df = f_df.drop(['uniqueid','year'], axis = 1)\n",
        "f_df.head()"
      ],
      "execution_count": 0,
      "outputs": [
        {
          "output_type": "execute_result",
          "data": {
            "text/html": [
              "<div>\n",
              "<style scoped>\n",
              "    .dataframe tbody tr th:only-of-type {\n",
              "        vertical-align: middle;\n",
              "    }\n",
              "\n",
              "    .dataframe tbody tr th {\n",
              "        vertical-align: top;\n",
              "    }\n",
              "\n",
              "    .dataframe thead th {\n",
              "        text-align: right;\n",
              "    }\n",
              "</style>\n",
              "<table border=\"1\" class=\"dataframe\">\n",
              "  <thead>\n",
              "    <tr style=\"text-align: right;\">\n",
              "      <th></th>\n",
              "      <th>country</th>\n",
              "      <th>year</th>\n",
              "      <th>uniqueid</th>\n",
              "      <th>Has a Bank account</th>\n",
              "      <th>Type of Location</th>\n",
              "      <th>Cell Phone Access</th>\n",
              "      <th>household_size</th>\n",
              "      <th>Respondent Age</th>\n",
              "      <th>gender_of_respondent</th>\n",
              "      <th>The relathip with head</th>\n",
              "      <th>marital_status</th>\n",
              "      <th>Level of Educuation</th>\n",
              "      <th>Type of Job</th>\n",
              "    </tr>\n",
              "  </thead>\n",
              "  <tbody>\n",
              "    <tr>\n",
              "      <td>0</td>\n",
              "      <td>Kenya</td>\n",
              "      <td>2018</td>\n",
              "      <td>uniqueid_1</td>\n",
              "      <td>Yes</td>\n",
              "      <td>Rural</td>\n",
              "      <td>Yes</td>\n",
              "      <td>3.0</td>\n",
              "      <td>24.0</td>\n",
              "      <td>Female</td>\n",
              "      <td>Spouse</td>\n",
              "      <td>Married/Living together</td>\n",
              "      <td>Secondary education</td>\n",
              "      <td>Self employed</td>\n",
              "    </tr>\n",
              "    <tr>\n",
              "      <td>1</td>\n",
              "      <td>Kenya</td>\n",
              "      <td>2018</td>\n",
              "      <td>uniqueid_2</td>\n",
              "      <td>No</td>\n",
              "      <td>Rural</td>\n",
              "      <td>No</td>\n",
              "      <td>5.0</td>\n",
              "      <td>70.0</td>\n",
              "      <td>Female</td>\n",
              "      <td>Head of Household</td>\n",
              "      <td>Widowed</td>\n",
              "      <td>No formal education</td>\n",
              "      <td>Government Dependent</td>\n",
              "    </tr>\n",
              "    <tr>\n",
              "      <td>2</td>\n",
              "      <td>Kenya</td>\n",
              "      <td>2018</td>\n",
              "      <td>uniqueid_3</td>\n",
              "      <td>Yes</td>\n",
              "      <td>Urban</td>\n",
              "      <td>Yes</td>\n",
              "      <td>5.0</td>\n",
              "      <td>26.0</td>\n",
              "      <td>Male</td>\n",
              "      <td>Other relative</td>\n",
              "      <td>Single/Never Married</td>\n",
              "      <td>Vocational/Specialised training</td>\n",
              "      <td>Self employed</td>\n",
              "    </tr>\n",
              "    <tr>\n",
              "      <td>3</td>\n",
              "      <td>Kenya</td>\n",
              "      <td>2018</td>\n",
              "      <td>uniqueid_4</td>\n",
              "      <td>No</td>\n",
              "      <td>Rural</td>\n",
              "      <td>Yes</td>\n",
              "      <td>5.0</td>\n",
              "      <td>34.0</td>\n",
              "      <td>Female</td>\n",
              "      <td>Head of Household</td>\n",
              "      <td>Married/Living together</td>\n",
              "      <td>Primary education</td>\n",
              "      <td>Formally employed Private</td>\n",
              "    </tr>\n",
              "    <tr>\n",
              "      <td>4</td>\n",
              "      <td>Kenya</td>\n",
              "      <td>2018</td>\n",
              "      <td>uniqueid_5</td>\n",
              "      <td>No</td>\n",
              "      <td>Urban</td>\n",
              "      <td>No</td>\n",
              "      <td>8.0</td>\n",
              "      <td>26.0</td>\n",
              "      <td>Male</td>\n",
              "      <td>Child</td>\n",
              "      <td>Single/Never Married</td>\n",
              "      <td>Primary education</td>\n",
              "      <td>Informally employed</td>\n",
              "    </tr>\n",
              "  </tbody>\n",
              "</table>\n",
              "</div>"
            ],
            "text/plain": [
              "  country  year    uniqueid Has a Bank account Type of Location  \\\n",
              "0   Kenya  2018  uniqueid_1                Yes            Rural   \n",
              "1   Kenya  2018  uniqueid_2                 No            Rural   \n",
              "2   Kenya  2018  uniqueid_3                Yes            Urban   \n",
              "3   Kenya  2018  uniqueid_4                 No            Rural   \n",
              "4   Kenya  2018  uniqueid_5                 No            Urban   \n",
              "\n",
              "  Cell Phone Access  household_size  Respondent Age gender_of_respondent  \\\n",
              "0               Yes             3.0            24.0               Female   \n",
              "1                No             5.0            70.0               Female   \n",
              "2               Yes             5.0            26.0                 Male   \n",
              "3               Yes             5.0            34.0               Female   \n",
              "4                No             8.0            26.0                 Male   \n",
              "\n",
              "  The relathip with head           marital_status  \\\n",
              "0                 Spouse  Married/Living together   \n",
              "1      Head of Household                  Widowed   \n",
              "2         Other relative     Single/Never Married   \n",
              "3      Head of Household  Married/Living together   \n",
              "4                  Child     Single/Never Married   \n",
              "\n",
              "               Level of Educuation                Type of Job  \n",
              "0              Secondary education              Self employed  \n",
              "1              No formal education       Government Dependent  \n",
              "2  Vocational/Specialised training              Self employed  \n",
              "3                Primary education  Formally employed Private  \n",
              "4                Primary education        Informally employed  "
            ]
          },
          "metadata": {
            "tags": []
          },
          "execution_count": 27
        }
      ]
    },
    {
      "cell_type": "code",
      "metadata": {
        "id": "-1jPm0-PKkMr",
        "colab_type": "code",
        "colab": {},
        "outputId": "8b09b406-80ea-4687-ddf0-cc6e4a9a9e40"
      },
      "source": [
        "#import label encoder,\n",
        "#label encoder is necessary to allow as to undertake correlation studies since most of the attributes are categorical data.\n",
        "\n",
        "from sklearn import preprocessing\n",
        "\n",
        "label_encoder = preprocessing.LabelEncoder()\n",
        "f_df['gender_of_respondent'] = label_encoder.fit_transform(f_df['gender_of_respondent'])\n",
        "f_df['The relathip with head'] = label_encoder.fit_transform(f_df['The relathip with head'])\n",
        "f_df['Level of Educuation'] = label_encoder.fit_transform(f_df['Level of Educuation'])\n",
        "f_df['marital_status'] = label_encoder.fit_transform(f_df['marital_status'])\n",
        "f_df['Has a Bank account'] = label_encoder.fit_transform(f_df['Has a Bank account'])\n",
        "f_df['Type of Location'] = label_encoder.fit_transform(f_df['Type of Location'])\n",
        "f_df['Cell Phone Access'] = label_encoder.fit_transform(f_df['Cell Phone Access'])\n",
        "f_df['Type of Job'] = label_encoder.fit_transform(f_df['Type of Job'])\n",
        "f_df['country'] = label_encoder.fit_transform(f_df['country'])\n",
        "f_df.head()"
      ],
      "execution_count": 0,
      "outputs": [
        {
          "output_type": "execute_result",
          "data": {
            "text/html": [
              "<div>\n",
              "<style scoped>\n",
              "    .dataframe tbody tr th:only-of-type {\n",
              "        vertical-align: middle;\n",
              "    }\n",
              "\n",
              "    .dataframe tbody tr th {\n",
              "        vertical-align: top;\n",
              "    }\n",
              "\n",
              "    .dataframe thead th {\n",
              "        text-align: right;\n",
              "    }\n",
              "</style>\n",
              "<table border=\"1\" class=\"dataframe\">\n",
              "  <thead>\n",
              "    <tr style=\"text-align: right;\">\n",
              "      <th></th>\n",
              "      <th>country</th>\n",
              "      <th>year</th>\n",
              "      <th>uniqueid</th>\n",
              "      <th>Has a Bank account</th>\n",
              "      <th>Type of Location</th>\n",
              "      <th>Cell Phone Access</th>\n",
              "      <th>household_size</th>\n",
              "      <th>Respondent Age</th>\n",
              "      <th>gender_of_respondent</th>\n",
              "      <th>The relathip with head</th>\n",
              "      <th>marital_status</th>\n",
              "      <th>Level of Educuation</th>\n",
              "      <th>Type of Job</th>\n",
              "    </tr>\n",
              "  </thead>\n",
              "  <tbody>\n",
              "    <tr>\n",
              "      <td>0</td>\n",
              "      <td>0</td>\n",
              "      <td>2018</td>\n",
              "      <td>uniqueid_1</td>\n",
              "      <td>1</td>\n",
              "      <td>0</td>\n",
              "      <td>1</td>\n",
              "      <td>3.0</td>\n",
              "      <td>24.0</td>\n",
              "      <td>0</td>\n",
              "      <td>5</td>\n",
              "      <td>1</td>\n",
              "      <td>2</td>\n",
              "      <td>8</td>\n",
              "    </tr>\n",
              "    <tr>\n",
              "      <td>1</td>\n",
              "      <td>0</td>\n",
              "      <td>2018</td>\n",
              "      <td>uniqueid_2</td>\n",
              "      <td>0</td>\n",
              "      <td>0</td>\n",
              "      <td>0</td>\n",
              "      <td>5.0</td>\n",
              "      <td>70.0</td>\n",
              "      <td>0</td>\n",
              "      <td>1</td>\n",
              "      <td>3</td>\n",
              "      <td>0</td>\n",
              "      <td>3</td>\n",
              "    </tr>\n",
              "    <tr>\n",
              "      <td>2</td>\n",
              "      <td>0</td>\n",
              "      <td>2018</td>\n",
              "      <td>uniqueid_3</td>\n",
              "      <td>1</td>\n",
              "      <td>1</td>\n",
              "      <td>1</td>\n",
              "      <td>5.0</td>\n",
              "      <td>26.0</td>\n",
              "      <td>1</td>\n",
              "      <td>3</td>\n",
              "      <td>2</td>\n",
              "      <td>4</td>\n",
              "      <td>8</td>\n",
              "    </tr>\n",
              "    <tr>\n",
              "      <td>3</td>\n",
              "      <td>0</td>\n",
              "      <td>2018</td>\n",
              "      <td>uniqueid_4</td>\n",
              "      <td>0</td>\n",
              "      <td>0</td>\n",
              "      <td>1</td>\n",
              "      <td>5.0</td>\n",
              "      <td>34.0</td>\n",
              "      <td>0</td>\n",
              "      <td>1</td>\n",
              "      <td>1</td>\n",
              "      <td>1</td>\n",
              "      <td>2</td>\n",
              "    </tr>\n",
              "    <tr>\n",
              "      <td>4</td>\n",
              "      <td>0</td>\n",
              "      <td>2018</td>\n",
              "      <td>uniqueid_5</td>\n",
              "      <td>0</td>\n",
              "      <td>1</td>\n",
              "      <td>0</td>\n",
              "      <td>8.0</td>\n",
              "      <td>26.0</td>\n",
              "      <td>1</td>\n",
              "      <td>0</td>\n",
              "      <td>2</td>\n",
              "      <td>1</td>\n",
              "      <td>4</td>\n",
              "    </tr>\n",
              "  </tbody>\n",
              "</table>\n",
              "</div>"
            ],
            "text/plain": [
              "   country  year    uniqueid  Has a Bank account  Type of Location  \\\n",
              "0        0  2018  uniqueid_1                   1                 0   \n",
              "1        0  2018  uniqueid_2                   0                 0   \n",
              "2        0  2018  uniqueid_3                   1                 1   \n",
              "3        0  2018  uniqueid_4                   0                 0   \n",
              "4        0  2018  uniqueid_5                   0                 1   \n",
              "\n",
              "   Cell Phone Access  household_size  Respondent Age  gender_of_respondent  \\\n",
              "0                  1             3.0            24.0                     0   \n",
              "1                  0             5.0            70.0                     0   \n",
              "2                  1             5.0            26.0                     1   \n",
              "3                  1             5.0            34.0                     0   \n",
              "4                  0             8.0            26.0                     1   \n",
              "\n",
              "   The relathip with head  marital_status  Level of Educuation  Type of Job  \n",
              "0                       5               1                    2            8  \n",
              "1                       1               3                    0            3  \n",
              "2                       3               2                    4            8  \n",
              "3                       1               1                    1            2  \n",
              "4                       0               2                    1            4  "
            ]
          },
          "metadata": {
            "tags": []
          },
          "execution_count": 25
        }
      ]
    },
    {
      "cell_type": "code",
      "metadata": {
        "id": "61kKMsq1KkMu",
        "colab_type": "code",
        "colab": {},
        "outputId": "6d30af18-5ed6-4f2d-cb9e-5f7cf83ef02a"
      },
      "source": [
        "f_df=f_df.drop(['year', 'uniqueid'], axis = 1)\n",
        "\n",
        "f_df.head()"
      ],
      "execution_count": 0,
      "outputs": [
        {
          "output_type": "execute_result",
          "data": {
            "text/html": [
              "<div>\n",
              "<style scoped>\n",
              "    .dataframe tbody tr th:only-of-type {\n",
              "        vertical-align: middle;\n",
              "    }\n",
              "\n",
              "    .dataframe tbody tr th {\n",
              "        vertical-align: top;\n",
              "    }\n",
              "\n",
              "    .dataframe thead th {\n",
              "        text-align: right;\n",
              "    }\n",
              "</style>\n",
              "<table border=\"1\" class=\"dataframe\">\n",
              "  <thead>\n",
              "    <tr style=\"text-align: right;\">\n",
              "      <th></th>\n",
              "      <th>country</th>\n",
              "      <th>Has a Bank account</th>\n",
              "      <th>Type of Location</th>\n",
              "      <th>Cell Phone Access</th>\n",
              "      <th>household_size</th>\n",
              "      <th>Respondent Age</th>\n",
              "      <th>gender_of_respondent</th>\n",
              "      <th>The relathip with head</th>\n",
              "      <th>marital_status</th>\n",
              "      <th>Level of Educuation</th>\n",
              "      <th>Type of Job</th>\n",
              "    </tr>\n",
              "  </thead>\n",
              "  <tbody>\n",
              "    <tr>\n",
              "      <td>0</td>\n",
              "      <td>0</td>\n",
              "      <td>1</td>\n",
              "      <td>0</td>\n",
              "      <td>1</td>\n",
              "      <td>3.0</td>\n",
              "      <td>24.0</td>\n",
              "      <td>0</td>\n",
              "      <td>5</td>\n",
              "      <td>1</td>\n",
              "      <td>2</td>\n",
              "      <td>8</td>\n",
              "    </tr>\n",
              "    <tr>\n",
              "      <td>1</td>\n",
              "      <td>0</td>\n",
              "      <td>0</td>\n",
              "      <td>0</td>\n",
              "      <td>0</td>\n",
              "      <td>5.0</td>\n",
              "      <td>70.0</td>\n",
              "      <td>0</td>\n",
              "      <td>1</td>\n",
              "      <td>3</td>\n",
              "      <td>0</td>\n",
              "      <td>3</td>\n",
              "    </tr>\n",
              "    <tr>\n",
              "      <td>2</td>\n",
              "      <td>0</td>\n",
              "      <td>1</td>\n",
              "      <td>1</td>\n",
              "      <td>1</td>\n",
              "      <td>5.0</td>\n",
              "      <td>26.0</td>\n",
              "      <td>1</td>\n",
              "      <td>3</td>\n",
              "      <td>2</td>\n",
              "      <td>4</td>\n",
              "      <td>8</td>\n",
              "    </tr>\n",
              "    <tr>\n",
              "      <td>3</td>\n",
              "      <td>0</td>\n",
              "      <td>0</td>\n",
              "      <td>0</td>\n",
              "      <td>1</td>\n",
              "      <td>5.0</td>\n",
              "      <td>34.0</td>\n",
              "      <td>0</td>\n",
              "      <td>1</td>\n",
              "      <td>1</td>\n",
              "      <td>1</td>\n",
              "      <td>2</td>\n",
              "    </tr>\n",
              "    <tr>\n",
              "      <td>4</td>\n",
              "      <td>0</td>\n",
              "      <td>0</td>\n",
              "      <td>1</td>\n",
              "      <td>0</td>\n",
              "      <td>8.0</td>\n",
              "      <td>26.0</td>\n",
              "      <td>1</td>\n",
              "      <td>0</td>\n",
              "      <td>2</td>\n",
              "      <td>1</td>\n",
              "      <td>4</td>\n",
              "    </tr>\n",
              "  </tbody>\n",
              "</table>\n",
              "</div>"
            ],
            "text/plain": [
              "   country  Has a Bank account  Type of Location  Cell Phone Access  \\\n",
              "0        0                   1                 0                  1   \n",
              "1        0                   0                 0                  0   \n",
              "2        0                   1                 1                  1   \n",
              "3        0                   0                 0                  1   \n",
              "4        0                   0                 1                  0   \n",
              "\n",
              "   household_size  Respondent Age  gender_of_respondent  \\\n",
              "0             3.0            24.0                     0   \n",
              "1             5.0            70.0                     0   \n",
              "2             5.0            26.0                     1   \n",
              "3             5.0            34.0                     0   \n",
              "4             8.0            26.0                     1   \n",
              "\n",
              "   The relathip with head  marital_status  Level of Educuation  Type of Job  \n",
              "0                       5               1                    2            8  \n",
              "1                       1               3                    0            3  \n",
              "2                       3               2                    4            8  \n",
              "3                       1               1                    1            2  \n",
              "4                       0               2                    1            4  "
            ]
          },
          "metadata": {
            "tags": []
          },
          "execution_count": 26
        }
      ]
    },
    {
      "cell_type": "markdown",
      "metadata": {
        "id": "INx1DH17KkMx",
        "colab_type": "text"
      },
      "source": [
        "**Multivariate Analysis**"
      ]
    },
    {
      "cell_type": "code",
      "metadata": {
        "id": "_bXH5lZtKkMy",
        "colab_type": "code",
        "colab": {},
        "outputId": "0d863ae6-9cff-4d7b-9594-d82779977949"
      },
      "source": [
        "#finding correlations amongst variables \n",
        "f_df.corr(method = 'pearson')"
      ],
      "execution_count": 0,
      "outputs": [
        {
          "output_type": "execute_result",
          "data": {
            "text/html": [
              "<div>\n",
              "<style scoped>\n",
              "    .dataframe tbody tr th:only-of-type {\n",
              "        vertical-align: middle;\n",
              "    }\n",
              "\n",
              "    .dataframe tbody tr th {\n",
              "        vertical-align: top;\n",
              "    }\n",
              "\n",
              "    .dataframe thead th {\n",
              "        text-align: right;\n",
              "    }\n",
              "</style>\n",
              "<table border=\"1\" class=\"dataframe\">\n",
              "  <thead>\n",
              "    <tr style=\"text-align: right;\">\n",
              "      <th></th>\n",
              "      <th>country</th>\n",
              "      <th>Has a Bank account</th>\n",
              "      <th>Type of Location</th>\n",
              "      <th>Cell Phone Access</th>\n",
              "      <th>household_size</th>\n",
              "      <th>Respondent Age</th>\n",
              "      <th>gender_of_respondent</th>\n",
              "      <th>The relathip with head</th>\n",
              "      <th>marital_status</th>\n",
              "      <th>Level of Educuation</th>\n",
              "      <th>Type of Job</th>\n",
              "    </tr>\n",
              "  </thead>\n",
              "  <tbody>\n",
              "    <tr>\n",
              "      <td>country</td>\n",
              "      <td>1.000000</td>\n",
              "      <td>-0.160409</td>\n",
              "      <td>0.152833</td>\n",
              "      <td>-0.150199</td>\n",
              "      <td>-0.162315</td>\n",
              "      <td>-0.057650</td>\n",
              "      <td>-0.026463</td>\n",
              "      <td>0.129572</td>\n",
              "      <td>0.047897</td>\n",
              "      <td>-0.071626</td>\n",
              "      <td>0.393739</td>\n",
              "    </tr>\n",
              "    <tr>\n",
              "      <td>Has a Bank account</td>\n",
              "      <td>-0.160409</td>\n",
              "      <td>1.000000</td>\n",
              "      <td>0.087235</td>\n",
              "      <td>0.209187</td>\n",
              "      <td>-0.021616</td>\n",
              "      <td>0.019429</td>\n",
              "      <td>0.115970</td>\n",
              "      <td>-0.069574</td>\n",
              "      <td>-0.057336</td>\n",
              "      <td>0.366467</td>\n",
              "      <td>-0.065051</td>\n",
              "    </tr>\n",
              "    <tr>\n",
              "      <td>Type of Location</td>\n",
              "      <td>0.152833</td>\n",
              "      <td>0.087235</td>\n",
              "      <td>1.000000</td>\n",
              "      <td>-0.085681</td>\n",
              "      <td>-0.275149</td>\n",
              "      <td>-0.047984</td>\n",
              "      <td>0.013567</td>\n",
              "      <td>0.017139</td>\n",
              "      <td>0.107100</td>\n",
              "      <td>0.128085</td>\n",
              "      <td>0.368837</td>\n",
              "    </tr>\n",
              "    <tr>\n",
              "      <td>Cell Phone Access</td>\n",
              "      <td>-0.150199</td>\n",
              "      <td>0.209187</td>\n",
              "      <td>-0.085681</td>\n",
              "      <td>1.000000</td>\n",
              "      <td>0.098865</td>\n",
              "      <td>-0.103639</td>\n",
              "      <td>0.102367</td>\n",
              "      <td>-0.048231</td>\n",
              "      <td>-0.127792</td>\n",
              "      <td>0.244017</td>\n",
              "      <td>-0.146652</td>\n",
              "    </tr>\n",
              "    <tr>\n",
              "      <td>household_size</td>\n",
              "      <td>-0.162315</td>\n",
              "      <td>-0.021616</td>\n",
              "      <td>-0.275149</td>\n",
              "      <td>0.098865</td>\n",
              "      <td>1.000000</td>\n",
              "      <td>-0.118386</td>\n",
              "      <td>0.011113</td>\n",
              "      <td>0.086699</td>\n",
              "      <td>-0.182605</td>\n",
              "      <td>-0.012757</td>\n",
              "      <td>-0.179912</td>\n",
              "    </tr>\n",
              "    <tr>\n",
              "      <td>Respondent Age</td>\n",
              "      <td>-0.057650</td>\n",
              "      <td>0.019429</td>\n",
              "      <td>-0.047984</td>\n",
              "      <td>-0.103639</td>\n",
              "      <td>-0.118386</td>\n",
              "      <td>1.000000</td>\n",
              "      <td>0.012618</td>\n",
              "      <td>-0.150147</td>\n",
              "      <td>0.232000</td>\n",
              "      <td>-0.308773</td>\n",
              "      <td>-0.105018</td>\n",
              "    </tr>\n",
              "    <tr>\n",
              "      <td>gender_of_respondent</td>\n",
              "      <td>-0.026463</td>\n",
              "      <td>0.115970</td>\n",
              "      <td>0.013567</td>\n",
              "      <td>0.102367</td>\n",
              "      <td>0.011113</td>\n",
              "      <td>0.012618</td>\n",
              "      <td>1.000000</td>\n",
              "      <td>-0.472632</td>\n",
              "      <td>-0.124904</td>\n",
              "      <td>0.107787</td>\n",
              "      <td>-0.031838</td>\n",
              "    </tr>\n",
              "    <tr>\n",
              "      <td>The relathip with head</td>\n",
              "      <td>0.129572</td>\n",
              "      <td>-0.069574</td>\n",
              "      <td>0.017139</td>\n",
              "      <td>-0.048231</td>\n",
              "      <td>0.086699</td>\n",
              "      <td>-0.150147</td>\n",
              "      <td>-0.472632</td>\n",
              "      <td>1.000000</td>\n",
              "      <td>-0.201581</td>\n",
              "      <td>-0.032983</td>\n",
              "      <td>0.041006</td>\n",
              "    </tr>\n",
              "    <tr>\n",
              "      <td>marital_status</td>\n",
              "      <td>0.047897</td>\n",
              "      <td>-0.057336</td>\n",
              "      <td>0.107100</td>\n",
              "      <td>-0.127792</td>\n",
              "      <td>-0.182605</td>\n",
              "      <td>0.232000</td>\n",
              "      <td>-0.124904</td>\n",
              "      <td>-0.201581</td>\n",
              "      <td>1.000000</td>\n",
              "      <td>-0.113714</td>\n",
              "      <td>0.087388</td>\n",
              "    </tr>\n",
              "    <tr>\n",
              "      <td>Level of Educuation</td>\n",
              "      <td>-0.071626</td>\n",
              "      <td>0.366467</td>\n",
              "      <td>0.128085</td>\n",
              "      <td>0.244017</td>\n",
              "      <td>-0.012757</td>\n",
              "      <td>-0.308773</td>\n",
              "      <td>0.107787</td>\n",
              "      <td>-0.032983</td>\n",
              "      <td>-0.113714</td>\n",
              "      <td>1.000000</td>\n",
              "      <td>0.029706</td>\n",
              "    </tr>\n",
              "    <tr>\n",
              "      <td>Type of Job</td>\n",
              "      <td>0.393739</td>\n",
              "      <td>-0.065051</td>\n",
              "      <td>0.368837</td>\n",
              "      <td>-0.146652</td>\n",
              "      <td>-0.179912</td>\n",
              "      <td>-0.105018</td>\n",
              "      <td>-0.031838</td>\n",
              "      <td>0.041006</td>\n",
              "      <td>0.087388</td>\n",
              "      <td>0.029706</td>\n",
              "      <td>1.000000</td>\n",
              "    </tr>\n",
              "  </tbody>\n",
              "</table>\n",
              "</div>"
            ],
            "text/plain": [
              "                         country  Has a Bank account  Type of Location  \\\n",
              "country                 1.000000           -0.160409          0.152833   \n",
              "Has a Bank account     -0.160409            1.000000          0.087235   \n",
              "Type of Location        0.152833            0.087235          1.000000   \n",
              "Cell Phone Access      -0.150199            0.209187         -0.085681   \n",
              "household_size         -0.162315           -0.021616         -0.275149   \n",
              "Respondent Age         -0.057650            0.019429         -0.047984   \n",
              "gender_of_respondent   -0.026463            0.115970          0.013567   \n",
              "The relathip with head  0.129572           -0.069574          0.017139   \n",
              "marital_status          0.047897           -0.057336          0.107100   \n",
              "Level of Educuation    -0.071626            0.366467          0.128085   \n",
              "Type of Job             0.393739           -0.065051          0.368837   \n",
              "\n",
              "                        Cell Phone Access  household_size  Respondent Age  \\\n",
              "country                         -0.150199       -0.162315       -0.057650   \n",
              "Has a Bank account               0.209187       -0.021616        0.019429   \n",
              "Type of Location                -0.085681       -0.275149       -0.047984   \n",
              "Cell Phone Access                1.000000        0.098865       -0.103639   \n",
              "household_size                   0.098865        1.000000       -0.118386   \n",
              "Respondent Age                  -0.103639       -0.118386        1.000000   \n",
              "gender_of_respondent             0.102367        0.011113        0.012618   \n",
              "The relathip with head          -0.048231        0.086699       -0.150147   \n",
              "marital_status                  -0.127792       -0.182605        0.232000   \n",
              "Level of Educuation              0.244017       -0.012757       -0.308773   \n",
              "Type of Job                     -0.146652       -0.179912       -0.105018   \n",
              "\n",
              "                        gender_of_respondent  The relathip with head  \\\n",
              "country                            -0.026463                0.129572   \n",
              "Has a Bank account                  0.115970               -0.069574   \n",
              "Type of Location                    0.013567                0.017139   \n",
              "Cell Phone Access                   0.102367               -0.048231   \n",
              "household_size                      0.011113                0.086699   \n",
              "Respondent Age                      0.012618               -0.150147   \n",
              "gender_of_respondent                1.000000               -0.472632   \n",
              "The relathip with head             -0.472632                1.000000   \n",
              "marital_status                     -0.124904               -0.201581   \n",
              "Level of Educuation                 0.107787               -0.032983   \n",
              "Type of Job                        -0.031838                0.041006   \n",
              "\n",
              "                        marital_status  Level of Educuation  Type of Job  \n",
              "country                       0.047897            -0.071626     0.393739  \n",
              "Has a Bank account           -0.057336             0.366467    -0.065051  \n",
              "Type of Location              0.107100             0.128085     0.368837  \n",
              "Cell Phone Access            -0.127792             0.244017    -0.146652  \n",
              "household_size               -0.182605            -0.012757    -0.179912  \n",
              "Respondent Age                0.232000            -0.308773    -0.105018  \n",
              "gender_of_respondent         -0.124904             0.107787    -0.031838  \n",
              "The relathip with head       -0.201581            -0.032983     0.041006  \n",
              "marital_status                1.000000            -0.113714     0.087388  \n",
              "Level of Educuation          -0.113714             1.000000     0.029706  \n",
              "Type of Job                   0.087388             0.029706     1.000000  "
            ]
          },
          "metadata": {
            "tags": []
          },
          "execution_count": 27
        }
      ]
    },
    {
      "cell_type": "markdown",
      "metadata": {
        "id": "bJ17ArqlKkM7",
        "colab_type": "text"
      },
      "source": [
        "From correlation studies interesting insights were obtained:\n",
        "\n",
        "    1.There is a moderate positive correlation between the likelihood of one having a bank account and level of education    \n",
        "    2.There is a moderate positive correlation between the likelihood of one having a bank account and cell phone access\n",
        "    3.There is a weak positive correlation between the likelihood of one having a bank account and gender_of_respondent\n",
        "    4.There is a weak negative correlation between the likelihood of one having a bank account and country\n",
        "There were no correlation between having a bank account with; Type of Job,marital_status,The relathip with head,Respondent Age,household_size,Type of Location, hence, no analysis will be carried out on the attributes. "
      ]
    },
    {
      "cell_type": "markdown",
      "metadata": {
        "id": "bXgqfZKHKkM8",
        "colab_type": "text"
      },
      "source": [
        "**Visualization of the above findings(Bivariate analysis)**"
      ]
    },
    {
      "cell_type": "code",
      "metadata": {
        "id": "3YvWMSN4KkM-",
        "colab_type": "code",
        "colab": {},
        "outputId": "818cb861-e617-4406-9e66-ce1c22704bc7"
      },
      "source": [
        "#Visualization of having a bank account and level of education\n",
        "fi_df = pd.read_csv(r\"C:\\Users\\Gideon Kipkorir\\Desktop\\colab\\fin.csv\", index_col=0) \n",
        "\n",
        "ax = fi_df.groupby(['Level of Educuation','Has a Bank account'])['Level of Educuation'].count().plot(kind = 'bar')\n",
        "for p in ax.patches:\n",
        "  ax.annotate(np.round(p.get_height(),decimals=1), (p.get_x()+p.get_width()/2., p.get_height()), ha='center', va='center', xytext=(0, 10), textcoords='offset points')"
      ],
      "execution_count": 0,
      "outputs": [
        {
          "output_type": "display_data",
          "data": {
            "image/png": "[encoded data removed]",
            "text/plain": [
              "<Figure size 432x288 with 1 Axes>"
            ]
          },
          "metadata": {
            "tags": [],
            "needs_background": "light"
          }
        }
      ]
    },
    {
      "cell_type": "markdown",
      "metadata": {
        "id": "r5X6F3-qKkNE",
        "colab_type": "text"
      },
      "source": [
        "From the observation above, the likelihood of  not having a bank account decreases with the advancement of the level of education, There is high variation in primary level of education"
      ]
    },
    {
      "cell_type": "code",
      "metadata": {
        "id": "WZmN6yZoKkNF",
        "colab_type": "code",
        "colab": {},
        "outputId": "5d4e654b-03fb-45a6-8e03-303704f731c3"
      },
      "source": [
        "#Relationship between having a bank account and cell phone access\n",
        "\n",
        "ax = fi_df.groupby(['country', 'Has a Bank account'])['Has a Bank account'].count().plot(kind = 'bar')\n",
        "for p in ax.patches:\n",
        "  ax.annotate(np.round(p.get_height(),decimals=1), (p.get_x()+p.get_width()/2., p.get_height()), ha='center', va='center', xytext=(0, 10), textcoords='offset points')"
      ],
      "execution_count": 0,
      "outputs": [
        {
          "output_type": "display_data",
          "data": {
            "image/png": "[encoded data removed]",
            "text/plain": [
              "<Figure size 432x288 with 1 Axes>"
            ]
          },
          "metadata": {
            "tags": [],
            "needs_background": "light"
          }
        }
      ]
    },
    {
      "cell_type": "code",
      "metadata": {
        "id": "EIFsAuEMKkNL",
        "colab_type": "code",
        "colab": {},
        "outputId": "854c7a1f-92e3-4fbd-f11b-4d0a8adb7202"
      },
      "source": [
        "#Relationship between having a bank account and cell phone access\n",
        "\n",
        "ax = fi_df.groupby(['Cell Phone Access', 'Has a Bank account'])['Has a Bank account'].count().plot(kind = 'bar')\n",
        "for p in ax.patches:\n",
        "  ax.annotate(np.round(p.get_height(),decimals=1), (p.get_x()+p.get_width()/2., p.get_height()), ha='center', va='center', xytext=(0, 10), textcoords='offset points')\n"
      ],
      "execution_count": 0,
      "outputs": [
        {
          "output_type": "display_data",
          "data": {
            "image/png": "[encoded data removed]",
            "text/plain": [
              "<Figure size 432x288 with 1 Axes>"
            ]
          },
          "metadata": {
            "tags": [],
            "needs_background": "light"
          }
        }
      ]
    },
    {
      "cell_type": "markdown",
      "metadata": {
        "id": "MIWMsotqKkNN",
        "colab_type": "text"
      },
      "source": [
        "**Observation:**\n",
        "\n",
        "Having a cellphone increases  the likelihood of one having a bank account.\n",
        "\n",
        "**Recommendation:**\n",
        "To have an objective view of the relationships between attributes that have correlation with Having a bank account, we should test the significance of the the correlating attributes, so that we can dispell the fears that the correlations were by chance."
      ]
    },
    {
      "cell_type": "code",
      "metadata": {
        "id": "TkB6uFzlKkNO",
        "colab_type": "code",
        "colab": {}
      },
      "source": [
        "# f_df = f_df.dropna()\n",
        "# f_df=f_df.drop(['year', 'uniqueid'])\n"
      ],
      "execution_count": 0,
      "outputs": []
    },
    {
      "cell_type": "code",
      "metadata": {
        "colab_type": "code",
        "id": "JOybjQASzSpc",
        "colab": {},
        "outputId": "84a1d4f7-2c60-487a-bf56-4c2626b2fbf8"
      },
      "source": [
        "f_df.head()"
      ],
      "execution_count": 0,
      "outputs": [
        {
          "output_type": "execute_result",
          "data": {
            "text/html": [
              "<div>\n",
              "<style scoped>\n",
              "    .dataframe tbody tr th:only-of-type {\n",
              "        vertical-align: middle;\n",
              "    }\n",
              "\n",
              "    .dataframe tbody tr th {\n",
              "        vertical-align: top;\n",
              "    }\n",
              "\n",
              "    .dataframe thead th {\n",
              "        text-align: right;\n",
              "    }\n",
              "</style>\n",
              "<table border=\"1\" class=\"dataframe\">\n",
              "  <thead>\n",
              "    <tr style=\"text-align: right;\">\n",
              "      <th></th>\n",
              "      <th>country</th>\n",
              "      <th>Has a Bank account</th>\n",
              "      <th>Type of Location</th>\n",
              "      <th>Cell Phone Access</th>\n",
              "      <th>household_size</th>\n",
              "      <th>Respondent Age</th>\n",
              "      <th>gender_of_respondent</th>\n",
              "      <th>The relathip with head</th>\n",
              "      <th>marital_status</th>\n",
              "      <th>Level of Educuation</th>\n",
              "      <th>Type of Job</th>\n",
              "    </tr>\n",
              "  </thead>\n",
              "  <tbody>\n",
              "    <tr>\n",
              "      <td>0</td>\n",
              "      <td>0</td>\n",
              "      <td>1</td>\n",
              "      <td>0</td>\n",
              "      <td>1</td>\n",
              "      <td>3.0</td>\n",
              "      <td>24.0</td>\n",
              "      <td>0</td>\n",
              "      <td>5</td>\n",
              "      <td>1</td>\n",
              "      <td>2</td>\n",
              "      <td>8</td>\n",
              "    </tr>\n",
              "    <tr>\n",
              "      <td>1</td>\n",
              "      <td>0</td>\n",
              "      <td>0</td>\n",
              "      <td>0</td>\n",
              "      <td>0</td>\n",
              "      <td>5.0</td>\n",
              "      <td>70.0</td>\n",
              "      <td>0</td>\n",
              "      <td>1</td>\n",
              "      <td>3</td>\n",
              "      <td>0</td>\n",
              "      <td>3</td>\n",
              "    </tr>\n",
              "    <tr>\n",
              "      <td>2</td>\n",
              "      <td>0</td>\n",
              "      <td>1</td>\n",
              "      <td>1</td>\n",
              "      <td>1</td>\n",
              "      <td>5.0</td>\n",
              "      <td>26.0</td>\n",
              "      <td>1</td>\n",
              "      <td>3</td>\n",
              "      <td>2</td>\n",
              "      <td>4</td>\n",
              "      <td>8</td>\n",
              "    </tr>\n",
              "    <tr>\n",
              "      <td>3</td>\n",
              "      <td>0</td>\n",
              "      <td>0</td>\n",
              "      <td>0</td>\n",
              "      <td>1</td>\n",
              "      <td>5.0</td>\n",
              "      <td>34.0</td>\n",
              "      <td>0</td>\n",
              "      <td>1</td>\n",
              "      <td>1</td>\n",
              "      <td>1</td>\n",
              "      <td>2</td>\n",
              "    </tr>\n",
              "    <tr>\n",
              "      <td>4</td>\n",
              "      <td>0</td>\n",
              "      <td>0</td>\n",
              "      <td>1</td>\n",
              "      <td>0</td>\n",
              "      <td>8.0</td>\n",
              "      <td>26.0</td>\n",
              "      <td>1</td>\n",
              "      <td>0</td>\n",
              "      <td>2</td>\n",
              "      <td>1</td>\n",
              "      <td>4</td>\n",
              "    </tr>\n",
              "  </tbody>\n",
              "</table>\n",
              "</div>"
            ],
            "text/plain": [
              "   country  Has a Bank account  Type of Location  Cell Phone Access  \\\n",
              "0        0                   1                 0                  1   \n",
              "1        0                   0                 0                  0   \n",
              "2        0                   1                 1                  1   \n",
              "3        0                   0                 0                  1   \n",
              "4        0                   0                 1                  0   \n",
              "\n",
              "   household_size  Respondent Age  gender_of_respondent  \\\n",
              "0             3.0            24.0                     0   \n",
              "1             5.0            70.0                     0   \n",
              "2             5.0            26.0                     1   \n",
              "3             5.0            34.0                     0   \n",
              "4             8.0            26.0                     1   \n",
              "\n",
              "   The relathip with head  marital_status  Level of Educuation  Type of Job  \n",
              "0                       5               1                    2            8  \n",
              "1                       1               3                    0            3  \n",
              "2                       3               2                    4            8  \n",
              "3                       1               1                    1            2  \n",
              "4                       0               2                    1            4  "
            ]
          },
          "metadata": {
            "tags": []
          },
          "execution_count": 31
        }
      ]
    },
    {
      "cell_type": "markdown",
      "metadata": {
        "id": "oLB3w01oKkNS",
        "colab_type": "text"
      },
      "source": [
        "**Applying Linear Discriminate analysis as a reduction Technique**\n",
        "\n",
        "LDA(Linear  Discriminate analysis) would be appropriate in this case because we are dealing with a classification problem between who has a bank account and who does not have. "
      ]
    },
    {
      "cell_type": "code",
      "metadata": {
        "colab_type": "code",
        "id": "wgyFihVnCWtZ",
        "colab": {}
      },
      "source": [
        "#dividing the dataset\n",
        "X = f_df.iloc[:, 2:10].values\n",
        "y = f_df.iloc[:, 1].values"
      ],
      "execution_count": 0,
      "outputs": []
    },
    {
      "cell_type": "code",
      "metadata": {
        "colab_type": "code",
        "id": "WMJUZzLhFu3M",
        "colab": {}
      },
      "source": [
        "#dividing data into training and test sets\n",
        "from sklearn.model_selection import train_test_split\n",
        "X_train, X_test, y_train, y_test = train_test_split(X, y, test_size=0.2, random_state=0)\n"
      ],
      "execution_count": 0,
      "outputs": []
    },
    {
      "cell_type": "code",
      "metadata": {
        "colab_type": "code",
        "id": "PpC1rKJnGHcx",
        "colab": {}
      },
      "source": [
        "#feature scaling\n",
        "from sklearn.preprocessing import StandardScaler\n",
        "sc = StandardScaler()\n",
        "X_train = sc.fit_transform(X_train)\n",
        "X_test = sc.transform(X_test)"
      ],
      "execution_count": 0,
      "outputs": []
    },
    {
      "cell_type": "code",
      "metadata": {
        "colab_type": "code",
        "id": "1btvPiiNGcdz",
        "colab": {},
        "outputId": "f44d4419-1b85-4eda-d663-c6376361dda3"
      },
      "source": [
        "#Peforming LDA\n",
        "from sklearn.discriminant_analysis import LinearDiscriminantAnalysis as LDA\n",
        "lda = LDA(n_components=2)\n",
        "X_train = lda.fit_transform(X_train, y_train)\n",
        "X_test = lda.transform(X_test)"
      ],
      "execution_count": 0,
      "outputs": [
        {
          "output_type": "stream",
          "text": [
            "C:\\Users\\Gideon Kipkorir\\Anaconda3\\lib\\site-packages\\sklearn\\discriminant_analysis.py:466: ChangedBehaviorWarning: n_components cannot be larger than min(n_features, n_classes - 1). Using min(n_features, n_classes - 1) = min(8, 2 - 1) = 1 components.\n",
            "  ChangedBehaviorWarning)\n",
            "C:\\Users\\Gideon Kipkorir\\Anaconda3\\lib\\site-packages\\sklearn\\discriminant_analysis.py:472: FutureWarning: In version 0.23, setting n_components > min(n_features, n_classes - 1) will raise a ValueError. You should set n_components to None (default), or a value smaller or equal to min(n_features, n_classes - 1).\n",
            "  warnings.warn(future_msg, FutureWarning)\n"
          ],
          "name": "stderr"
        }
      ]
    },
    {
      "cell_type": "code",
      "metadata": {
        "colab_type": "code",
        "id": "0QIK7zfjGu35",
        "outputId": "3c26b00f-f8f4-4036-b7ac-d60591cb1bcd",
        "colab": {
          "base_uri": "https://localhost:8080/",
          "height": 52
        }
      },
      "source": [
        "#Training and Making Predictions\n",
        "from sklearn.ensemble import RandomForestClassifier\n",
        "\n",
        "classifier = RandomForestClassifier(max_depth=2, random_state=0)\n",
        "classifier.fit(X_train, y_train)\n",
        "y_pred = classifier.predict(X_test)\n"
      ],
      "execution_count": 0,
      "outputs": [
        {
          "output_type": "stream",
          "text": [
            "C:\\Users\\Gideon Kipkorir\\Anaconda3\\lib\\site-packages\\sklearn\\ensemble\\forest.py:245: FutureWarning: The default value of n_estimators will change from 10 in version 0.20 to 100 in 0.22.\n",
            "  \"10 in version 0.20 to 100 in 0.22.\", FutureWarning)\n"
          ],
          "name": "stderr"
        }
      ]
    },
    {
      "cell_type": "code",
      "metadata": {
        "colab_type": "code",
        "id": "37bRKK5IG98V",
        "outputId": "4f6762b2-2b00-4a48-80e6-92fd247fcdf3",
        "colab": {
          "base_uri": "https://localhost:8080/",
          "height": 69
        }
      },
      "source": [
        "#Evaluating the Performance\n",
        "\n",
        "from sklearn.metrics import confusion_matrix\n",
        "from sklearn.metrics import accuracy_score\n",
        "\n",
        "cm = confusion_matrix(y_test, y_pred)\n",
        "print(cm)\n",
        "print('Accuracy' + str(accuracy_score(y_test, y_pred)))"
      ],
      "execution_count": 0,
      "outputs": [
        {
          "output_type": "stream",
          "text": [
            "[[3862  116]\n",
            " [ 490  170]]\n",
            "Accuracy0.869340232858991\n"
          ],
          "name": "stdout"
        }
      ]
    }
  ]
}